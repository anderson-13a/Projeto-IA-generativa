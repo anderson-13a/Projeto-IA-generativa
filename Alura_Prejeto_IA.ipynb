{
  "nbformat": 4,
  "nbformat_minor": 0,
  "metadata": {
    "colab": {
      "provenance": [],
      "gpuType": "T4",
      "authorship_tag": "ABX9TyM9BcFTb/Ra9MYU1V/Bm5ud",
      "include_colab_link": true
    },
    "kernelspec": {
      "name": "python3",
      "display_name": "Python 3"
    },
    "language_info": {
      "name": "python"
    },
    "accelerator": "GPU"
  },
  "cells": [
    {
      "cell_type": "markdown",
      "metadata": {
        "id": "view-in-github",
        "colab_type": "text"
      },
      "source": [
        "<a href=\"https://colab.research.google.com/github/anderson-13a/Projeto-IA-generativa/blob/main/Alura_Prejeto_IA.ipynb\" target=\"_parent\"><img src=\"https://colab.research.google.com/assets/colab-badge.svg\" alt=\"Open In Colab\"/></a>"
      ]
    },
    {
      "cell_type": "markdown",
      "source": [
        "Instalando o SDK do Google"
      ],
      "metadata": {
        "id": "ZgepWEcUCm1x"
      }
    },
    {
      "cell_type": "code",
      "execution_count": 3,
      "metadata": {
        "id": "J6Pd9SFJ1yVi"
      },
      "outputs": [],
      "source": [
        "!pip install -q -U google-generativeai"
      ]
    },
    {
      "cell_type": "code",
      "execution_count": 4,
      "metadata": {
        "id": "f5VVi8vb-EYm"
      },
      "outputs": [],
      "source": [
        "import google.generativeai as genai\n",
        "from google.colab import userdata\n",
        "api_key = userdata.get('SECRET_KEY')\n",
        "\n",
        "genai.configure(api_key=api_key)"
      ]
    },
    {
      "cell_type": "markdown",
      "source": [
        "Listar os modelos disponíveis"
      ],
      "metadata": {
        "id": "K8blFj1TEmnz"
      }
    },
    {
      "cell_type": "code",
      "source": [
        "#Listando os modelos disponíveis\n",
        "for m in genai.list_models():\n",
        "  if 'generateContent' in m.supported_generation_methods:\n",
        "    print(m.name)"
      ],
      "metadata": {
        "colab": {
          "base_uri": "https://localhost:8080/",
          "height": 138
        },
        "id": "TeUFylmrL2ZC",
        "outputId": "57a22c18-bb6f-4bb7-cf68-11a5d435cdd4"
      },
      "execution_count": 5,
      "outputs": [
        {
          "output_type": "stream",
          "name": "stdout",
          "text": [
            "models/gemini-1.0-pro\n",
            "models/gemini-1.0-pro-001\n",
            "models/gemini-1.0-pro-latest\n",
            "models/gemini-1.0-pro-vision-latest\n",
            "models/gemini-1.5-pro-latest\n",
            "models/gemini-pro\n",
            "models/gemini-pro-vision\n"
          ]
        }
      ]
    },
    {
      "cell_type": "code",
      "source": [
        "generation_config = {\n",
        "    \"candidate_count\": 1,\n",
        "    \"temperature\": 0.5,\n",
        "}"
      ],
      "metadata": {
        "id": "CUsIwtJtNPBq"
      },
      "execution_count": 6,
      "outputs": []
    },
    {
      "cell_type": "code",
      "source": [
        "safety_settings = {\n",
        "    \"HARASSMENT\": \"BLOCK_NONE\",\n",
        "    \"HATE\": \"BLOCK_NONE\",\n",
        "    \"SEXUAL\": \"BLOCK_NONE\",\n",
        "    \"DANGEROUS\": \"BLOCK_NONE\",\n",
        "}"
      ],
      "metadata": {
        "id": "YUhrgRLKwnvL"
      },
      "execution_count": 7,
      "outputs": []
    },
    {
      "cell_type": "markdown",
      "source": [
        "Inicializando o modelo"
      ],
      "metadata": {
        "id": "AYKMskFlziCu"
      }
    },
    {
      "cell_type": "code",
      "source": [
        "model = genai.GenerativeModel(model_name=\"gemini-1.0-pro\",\n",
        "                              generation_config=generation_config,\n",
        "                              safety_settings=safety_settings)"
      ],
      "metadata": {
        "id": "wRPV5T0czhJ1"
      },
      "execution_count": 8,
      "outputs": []
    },
    {
      "cell_type": "code",
      "source": [
        "response = model.generate_content(\"Quero conhecer pontos turisticos. Me dê sugestões de lugares existentes no Brasil.\")\n",
        "print(response.text)"
      ],
      "metadata": {
        "colab": {
          "base_uri": "https://localhost:8080/",
          "height": 555
        },
        "id": "Kdr-WOtS3WEU",
        "outputId": "0fea2227-71f9-45be-91ad-18a4e3179e42"
      },
      "execution_count": 19,
      "outputs": [
        {
          "output_type": "stream",
          "name": "stdout",
          "text": [
            "**Pontos Turísticos Naturais**\n",
            "\n",
            "* **Cataratas do Iguaçu (Paraná):** Uma das maiores e mais impressionantes cachoeiras do mundo.\n",
            "* **Floresta Amazônica (Amazonas):** A maior floresta tropical do mundo, com uma biodiversidade incomparável.\n",
            "* **Pantanal (Mato Grosso e Mato Grosso do Sul):** A maior planície alagada do mundo, lar de uma fauna rica.\n",
            "* **Chapada dos Veadeiros (Goiás):** Um parque nacional com cachoeiras, cânions e formações rochosas únicas.\n",
            "* **Lençóis Maranhenses (Maranhão):** Dunas de areia branca que formam lagoas cristalinas durante a estação chuvosa.\n",
            "\n",
            "**Pontos Turísticos Históricos**\n",
            "\n",
            "* **Cidade Histórica de Ouro Preto (Minas Gerais):** Uma cidade colonial preservada com arquitetura barroca e igrejas douradas.\n",
            "* **Pelourinho (Salvador, Bahia):** O centro histórico de Salvador, com ruas estreitas e coloridas e arquitetura colonial.\n",
            "* **Olinda (Pernambuco):** Outra cidade colonial preservada, conhecida por seu carnaval vibrante.\n",
            "* **Forte de Copacabana (Rio de Janeiro):** Um forte histórico com vistas deslumbrantes da praia de Copacabana.\n",
            "* **Museu Imperial (Petrópolis, Rio de Janeiro):** O antigo palácio de verão do imperador Pedro II.\n",
            "\n",
            "**Pontos Turísticos Urbanos**\n",
            "\n",
            "* **Praia de Copacabana (Rio de Janeiro):** Uma das praias mais famosas do mundo, conhecida por suas ondas, areia branca e atmosfera vibrante.\n",
            "* **Avenida Paulista (São Paulo):** Uma das principais avenidas do Brasil, com arranha-céus, museus e lojas.\n",
            "* **Mercado Municipal de São Paulo:** Um mercado movimentado com uma variedade de produtos frescos, frutos do mar e iguarias.\n",
            "* **Parque Ibirapuera (São Paulo):** Um grande parque urbano com museus, jardins e um lago.\n",
            "* **Jardim Botânico do Rio de Janeiro:** Um jardim botânico de renome mundial com uma vasta coleção de plantas.\n",
            "\n",
            "**Outros Pontos Turísticos Interessantes**\n",
            "\n",
            "* **Inhotim (Brumadinho, Minas Gerais):** Um museu de arte contemporânea ao ar livre em meio à natureza.\n",
            "* **Parque Nacional da Serra da Capivara (Piauí):** Um parque nacional com sítios arqueológicos que datam de milhares de anos.\n",
            "* **Ilha do Mel (Paraná):** Uma ilha paradisíaca com praias selvagens, florestas e lagoas.\n",
            "* **Bonito (Mato Grosso do Sul):** Uma cidade conhecida por suas águas cristalinas e atividades de ecoturismo, como mergulho com snorkel e flutuação.\n",
            "* **Foz do Iguaçu (Paraná):** A cidade-base para visitar as Cataratas do Iguaçu, com um parque nacional e outras atrações turísticas.\n"
          ]
        }
      ]
    },
    {
      "cell_type": "code",
      "source": [
        "chat = model.start_chat(history=[])"
      ],
      "metadata": {
        "id": "nXbkQ10h38C5"
      },
      "execution_count": 20,
      "outputs": []
    },
    {
      "cell_type": "code",
      "source": [
        "prompt = input(\"Esperando prompt: \")\n",
        "\n",
        "while prompt != \"fim\":\n",
        "  response = chat.send_message(prompt)\n",
        "  print(\"Resposta: \", response.text,\"\\n\")\n",
        "  prompt = input(\"Esperando prompt: \")"
      ],
      "metadata": {
        "colab": {
          "base_uri": "https://localhost:8080/",
          "height": 800
        },
        "id": "LqfSWvxH5Vfo",
        "outputId": "b2de4e50-f8c2-4db8-d905-aa34f07e257d"
      },
      "execution_count": 21,
      "outputs": [
        {
          "name": "stdout",
          "output_type": "stream",
          "text": [
            "Esperando prompt: Fale sobre o Forte de Copacabana (Rio de Janeiro)?\n",
            "Resposta:  **Forte de Copacabana**\n",
            "\n",
            "O Forte de Copacabana é uma fortaleza histórica localizada no bairro de Copacabana, no Rio de Janeiro, Brasil. É um dos marcos mais famosos da cidade e um importante destino turístico.\n",
            "\n",
            "**História:**\n",
            "\n",
            "* O forte foi construído entre 1908 e 1914 para proteger a entrada da Baía de Guanabara de ataques navais.\n",
            "* Foi projetado pelo engenheiro militar brasileiro Júlio César de Noronha e construído com concreto armado.\n",
            "* O forte foi usado durante a Segunda Guerra Mundial como base para a artilharia antiaérea.\n",
            "\n",
            "**Características:**\n",
            "\n",
            "* O Forte de Copacabana é um grande complexo que ocupa uma área de aproximadamente 100.000 metros quadrados.\n",
            "* Possui quatro baterias de artilharia, cada uma equipada com três canhões de 305 mm.\n",
            "* O forte também tem um farol, uma torre de controle e vários edifícios administrativos.\n",
            "\n",
            "**Turismo:**\n",
            "\n",
            "* O Forte de Copacabana é aberto ao público e oferece visitas guiadas.\n",
            "* Os visitantes podem explorar as baterias de artilharia, o farol e outros locais históricos.\n",
            "* O forte também abriga o Museu Histórico do Exército, que exibe artefatos e documentos relacionados à história militar do Brasil.\n",
            "\n",
            "**Outros destaques:**\n",
            "\n",
            "* O Forte de Copacabana é um local popular para eventos e concertos.\n",
            "* Ele oferece vistas panorâmicas da praia de Copacabana, do Pão de Açúcar e da Baía de Guanabara.\n",
            "* O forte é um símbolo da cidade do Rio de Janeiro e um importante patrimônio histórico. \n",
            "\n",
            "Esperando prompt: Além do Forte de Copacabana (Rio de Janeiro), existe outro fortes no Brasil?\n",
            "Resposta:  Sim, existem vários outros fortes históricos no Brasil, incluindo:\n",
            "\n",
            "* **Forte de São Luís** (Maranhão): Construído pelos franceses no século XVII, foi conquistado pelos portugueses em 1615 e é considerado o forte mais antigo do Brasil.\n",
            "* **Forte dos Reis Magos** (Rio Grande do Norte): Construído pelos portugueses no século XVI, é um dos fortes mais bem preservados do Brasil e abriga um museu.\n",
            "* **Forte do Brum** (Rio Grande do Sul): Construído pelos portugueses no século XVIII, foi palco de importantes batalhas durante a Revolução Farroupilha.\n",
            "* **Forte de Santa Cruz** (Rio de Janeiro): Construído pelos portugueses no século XVI, é um dos maiores fortes do Brasil e foi usado como prisão durante a ditadura militar.\n",
            "* **Forte de São Marcelo** (Pernambuco): Construído pelos portugueses no século XVI, é um dos fortes mais importantes do Nordeste do Brasil e abriga um museu.\n",
            "* **Forte de São Francisco Xavier da Barra** (Rio de Janeiro): Construído pelos portugueses no século XVII, é um dos fortes mais famosos do Brasil e foi usado como prisão durante o Império.\n",
            "* **Forte de Santo Antônio da Barra** (Bahia): Construído pelos portugueses no século XVI, é um dos fortes mais importantes do Nordeste do Brasil e abriga um museu.\n",
            "* **Forte de Nossa Senhora da Conceição** (Santa Catarina): Construído pelos portugueses no século XVIII, é um dos fortes mais bem preservados do Sul do Brasil e abriga um museu.\n",
            "\n",
            "Além desses fortes históricos, existem também vários fortes modernos no Brasil, usados para fins militares. \n",
            "\n",
            "Esperando prompt: fim\n"
          ]
        }
      ]
    },
    {
      "cell_type": "code",
      "source": [
        "chat"
      ],
      "metadata": {
        "colab": {
          "base_uri": "https://localhost:8080/"
        },
        "id": "jAhgpjqE_f7B",
        "outputId": "c8a5cb74-15ad-45f7-9b71-c06256e280fd"
      },
      "execution_count": 22,
      "outputs": [
        {
          "output_type": "execute_result",
          "data": {
            "text/plain": [
              "ChatSession(\n",
              "    model=genai.GenerativeModel(\n",
              "        model_name='models/gemini-1.0-pro',\n",
              "        generation_config={'candidate_count': 1, 'temperature': 0.5},\n",
              "        safety_settings={<HarmCategory.HARM_CATEGORY_HARASSMENT: 7>: <HarmBlockThreshold.BLOCK_NONE: 4>, <HarmCategory.HARM_CATEGORY_HATE_SPEECH: 8>: <HarmBlockThreshold.BLOCK_NONE: 4>, <HarmCategory.HARM_CATEGORY_SEXUALLY_EXPLICIT: 9>: <HarmBlockThreshold.BLOCK_NONE: 4>, <HarmCategory.HARM_CATEGORY_DANGEROUS_CONTENT: 10>: <HarmBlockThreshold.BLOCK_NONE: 4>},\n",
              "        tools=None,\n",
              "        system_instruction=None,\n",
              "    ),\n",
              "    history=[glm.Content({'parts': [{'text': 'Fale sobre o... de Janeiro)?'}], 'role': 'user'}), glm.Content({'parts': [{'text': '**Forte de C...io histórico.'}], 'role': 'model'}), glm.Content({'parts': [{'text': 'Além do Fort...es no Brasil?'}], 'role': 'user'}), glm.Content({'parts': [{'text': 'Sim, existem...ns militares.'}], 'role': 'model'})]\n",
              ")"
            ]
          },
          "metadata": {},
          "execution_count": 22
        }
      ]
    },
    {
      "cell_type": "code",
      "source": [
        "chat.history"
      ],
      "metadata": {
        "colab": {
          "base_uri": "https://localhost:8080/"
        },
        "id": "V89u93ia_7M0",
        "outputId": "dc8ff08a-67c8-4e77-b497-53461c69a4fa"
      },
      "execution_count": 23,
      "outputs": [
        {
          "output_type": "execute_result",
          "data": {
            "text/plain": [
              "[parts {\n",
              "   text: \"Fale sobre o Forte de Copacabana (Rio de Janeiro)?\"\n",
              " }\n",
              " role: \"user\",\n",
              " parts {\n",
              "   text: \"**Forte de Copacabana**\\n\\nO Forte de Copacabana \\303\\251 uma fortaleza hist\\303\\263rica localizada no bairro de Copacabana, no Rio de Janeiro, Brasil. \\303\\211 um dos marcos mais famosos da cidade e um importante destino tur\\303\\255stico.\\n\\n**Hist\\303\\263ria:**\\n\\n* O forte foi constru\\303\\255do entre 1908 e 1914 para proteger a entrada da Ba\\303\\255a de Guanabara de ataques navais.\\n* Foi projetado pelo engenheiro militar brasileiro J\\303\\272lio C\\303\\251sar de Noronha e constru\\303\\255do com concreto armado.\\n* O forte foi usado durante a Segunda Guerra Mundial como base para a artilharia antia\\303\\251rea.\\n\\n**Caracter\\303\\255sticas:**\\n\\n* O Forte de Copacabana \\303\\251 um grande complexo que ocupa uma \\303\\241rea de aproximadamente 100.000 metros quadrados.\\n* Possui quatro baterias de artilharia, cada uma equipada com tr\\303\\252s canh\\303\\265es de 305 mm.\\n* O forte tamb\\303\\251m tem um farol, uma torre de controle e v\\303\\241rios edif\\303\\255cios administrativos.\\n\\n**Turismo:**\\n\\n* O Forte de Copacabana \\303\\251 aberto ao p\\303\\272blico e oferece visitas guiadas.\\n* Os visitantes podem explorar as baterias de artilharia, o farol e outros locais hist\\303\\263ricos.\\n* O forte tamb\\303\\251m abriga o Museu Hist\\303\\263rico do Ex\\303\\251rcito, que exibe artefatos e documentos relacionados \\303\\240 hist\\303\\263ria militar do Brasil.\\n\\n**Outros destaques:**\\n\\n* O Forte de Copacabana \\303\\251 um local popular para eventos e concertos.\\n* Ele oferece vistas panor\\303\\242micas da praia de Copacabana, do P\\303\\243o de A\\303\\247\\303\\272car e da Ba\\303\\255a de Guanabara.\\n* O forte \\303\\251 um s\\303\\255mbolo da cidade do Rio de Janeiro e um importante patrim\\303\\264nio hist\\303\\263rico.\"\n",
              " }\n",
              " role: \"model\",\n",
              " parts {\n",
              "   text: \"Al\\303\\251m do Forte de Copacabana (Rio de Janeiro), existe outro fortes no Brasil?\"\n",
              " }\n",
              " role: \"user\",\n",
              " parts {\n",
              "   text: \"Sim, existem v\\303\\241rios outros fortes hist\\303\\263ricos no Brasil, incluindo:\\n\\n* **Forte de S\\303\\243o Lu\\303\\255s** (Maranh\\303\\243o): Constru\\303\\255do pelos franceses no s\\303\\251culo XVII, foi conquistado pelos portugueses em 1615 e \\303\\251 considerado o forte mais antigo do Brasil.\\n* **Forte dos Reis Magos** (Rio Grande do Norte): Constru\\303\\255do pelos portugueses no s\\303\\251culo XVI, \\303\\251 um dos fortes mais bem preservados do Brasil e abriga um museu.\\n* **Forte do Brum** (Rio Grande do Sul): Constru\\303\\255do pelos portugueses no s\\303\\251culo XVIII, foi palco de importantes batalhas durante a Revolu\\303\\247\\303\\243o Farroupilha.\\n* **Forte de Santa Cruz** (Rio de Janeiro): Constru\\303\\255do pelos portugueses no s\\303\\251culo XVI, \\303\\251 um dos maiores fortes do Brasil e foi usado como pris\\303\\243o durante a ditadura militar.\\n* **Forte de S\\303\\243o Marcelo** (Pernambuco): Constru\\303\\255do pelos portugueses no s\\303\\251culo XVI, \\303\\251 um dos fortes mais importantes do Nordeste do Brasil e abriga um museu.\\n* **Forte de S\\303\\243o Francisco Xavier da Barra** (Rio de Janeiro): Constru\\303\\255do pelos portugueses no s\\303\\251culo XVII, \\303\\251 um dos fortes mais famosos do Brasil e foi usado como pris\\303\\243o durante o Imp\\303\\251rio.\\n* **Forte de Santo Ant\\303\\264nio da Barra** (Bahia): Constru\\303\\255do pelos portugueses no s\\303\\251culo XVI, \\303\\251 um dos fortes mais importantes do Nordeste do Brasil e abriga um museu.\\n* **Forte de Nossa Senhora da Concei\\303\\247\\303\\243o** (Santa Catarina): Constru\\303\\255do pelos portugueses no s\\303\\251culo XVIII, \\303\\251 um dos fortes mais bem preservados do Sul do Brasil e abriga um museu.\\n\\nAl\\303\\251m desses fortes hist\\303\\263ricos, existem tamb\\303\\251m v\\303\\241rios fortes modernos no Brasil, usados para fins militares.\"\n",
              " }\n",
              " role: \"model\"]"
            ]
          },
          "metadata": {},
          "execution_count": 23
        }
      ]
    },
    {
      "cell_type": "code",
      "source": [
        "#Melhorando a visualização\n",
        "#Código disponível em https://ai.google.dev/tutorials/python_quickstart#import_packages\n",
        "import textwrap\n",
        "from IPython.display import display\n",
        "from IPython.display import Markdown\n",
        "\n",
        "def to_markdown(text):\n",
        "  text = text.replace('•', '  *')\n",
        "  return Markdown(textwrap.indent(text, '> ', predicate=lambda _: True))\n",
        "\n",
        "#Imprimindo o histórico\n",
        "for message in chat.history:\n",
        "  display(to_markdown(f'**{message.role}**: {message.parts[0].text}'))\n",
        "  print('-------------------------------------------')"
      ],
      "metadata": {
        "colab": {
          "base_uri": "https://localhost:8080/",
          "height": 941
        },
        "id": "-uC5X1O4Agyg",
        "outputId": "d5333b81-c886-46ca-e163-e3b69c5ac3c4"
      },
      "execution_count": 24,
      "outputs": [
        {
          "output_type": "display_data",
          "data": {
            "text/plain": [
              "<IPython.core.display.Markdown object>"
            ],
            "text/markdown": "> **user**: Fale sobre o Forte de Copacabana (Rio de Janeiro)?"
          },
          "metadata": {}
        },
        {
          "output_type": "stream",
          "name": "stdout",
          "text": [
            "-------------------------------------------\n"
          ]
        },
        {
          "output_type": "display_data",
          "data": {
            "text/plain": [
              "<IPython.core.display.Markdown object>"
            ],
            "text/markdown": "> **model**: **Forte de Copacabana**\n> \n> O Forte de Copacabana é uma fortaleza histórica localizada no bairro de Copacabana, no Rio de Janeiro, Brasil. É um dos marcos mais famosos da cidade e um importante destino turístico.\n> \n> **História:**\n> \n> * O forte foi construído entre 1908 e 1914 para proteger a entrada da Baía de Guanabara de ataques navais.\n> * Foi projetado pelo engenheiro militar brasileiro Júlio César de Noronha e construído com concreto armado.\n> * O forte foi usado durante a Segunda Guerra Mundial como base para a artilharia antiaérea.\n> \n> **Características:**\n> \n> * O Forte de Copacabana é um grande complexo que ocupa uma área de aproximadamente 100.000 metros quadrados.\n> * Possui quatro baterias de artilharia, cada uma equipada com três canhões de 305 mm.\n> * O forte também tem um farol, uma torre de controle e vários edifícios administrativos.\n> \n> **Turismo:**\n> \n> * O Forte de Copacabana é aberto ao público e oferece visitas guiadas.\n> * Os visitantes podem explorar as baterias de artilharia, o farol e outros locais históricos.\n> * O forte também abriga o Museu Histórico do Exército, que exibe artefatos e documentos relacionados à história militar do Brasil.\n> \n> **Outros destaques:**\n> \n> * O Forte de Copacabana é um local popular para eventos e concertos.\n> * Ele oferece vistas panorâmicas da praia de Copacabana, do Pão de Açúcar e da Baía de Guanabara.\n> * O forte é um símbolo da cidade do Rio de Janeiro e um importante patrimônio histórico."
          },
          "metadata": {}
        },
        {
          "output_type": "stream",
          "name": "stdout",
          "text": [
            "-------------------------------------------\n"
          ]
        },
        {
          "output_type": "display_data",
          "data": {
            "text/plain": [
              "<IPython.core.display.Markdown object>"
            ],
            "text/markdown": "> **user**: Além do Forte de Copacabana (Rio de Janeiro), existe outro fortes no Brasil?"
          },
          "metadata": {}
        },
        {
          "output_type": "stream",
          "name": "stdout",
          "text": [
            "-------------------------------------------\n"
          ]
        },
        {
          "output_type": "display_data",
          "data": {
            "text/plain": [
              "<IPython.core.display.Markdown object>"
            ],
            "text/markdown": "> **model**: Sim, existem vários outros fortes históricos no Brasil, incluindo:\n> \n> * **Forte de São Luís** (Maranhão): Construído pelos franceses no século XVII, foi conquistado pelos portugueses em 1615 e é considerado o forte mais antigo do Brasil.\n> * **Forte dos Reis Magos** (Rio Grande do Norte): Construído pelos portugueses no século XVI, é um dos fortes mais bem preservados do Brasil e abriga um museu.\n> * **Forte do Brum** (Rio Grande do Sul): Construído pelos portugueses no século XVIII, foi palco de importantes batalhas durante a Revolução Farroupilha.\n> * **Forte de Santa Cruz** (Rio de Janeiro): Construído pelos portugueses no século XVI, é um dos maiores fortes do Brasil e foi usado como prisão durante a ditadura militar.\n> * **Forte de São Marcelo** (Pernambuco): Construído pelos portugueses no século XVI, é um dos fortes mais importantes do Nordeste do Brasil e abriga um museu.\n> * **Forte de São Francisco Xavier da Barra** (Rio de Janeiro): Construído pelos portugueses no século XVII, é um dos fortes mais famosos do Brasil e foi usado como prisão durante o Império.\n> * **Forte de Santo Antônio da Barra** (Bahia): Construído pelos portugueses no século XVI, é um dos fortes mais importantes do Nordeste do Brasil e abriga um museu.\n> * **Forte de Nossa Senhora da Conceição** (Santa Catarina): Construído pelos portugueses no século XVIII, é um dos fortes mais bem preservados do Sul do Brasil e abriga um museu.\n> \n> Além desses fortes históricos, existem também vários fortes modernos no Brasil, usados para fins militares."
          },
          "metadata": {}
        },
        {
          "output_type": "stream",
          "name": "stdout",
          "text": [
            "-------------------------------------------\n"
          ]
        }
      ]
    }
  ]
}